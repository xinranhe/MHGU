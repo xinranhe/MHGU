{
 "cells": [
  {
   "cell_type": "code",
   "execution_count": 1,
   "metadata": {},
   "outputs": [],
   "source": [
    "from collections import defaultdict\n",
    "import json\n",
    "import math"
   ]
  },
  {
   "cell_type": "markdown",
   "metadata": {},
   "source": [
    "# Load Equipments"
   ]
  },
  {
   "cell_type": "code",
   "execution_count": 2,
   "metadata": {},
   "outputs": [
    {
     "name": "stdout",
     "output_type": "stream",
     "text": [
      "loaded tou parts: 1211\n",
      "loaded wan parts: 1168\n",
      "loaded xiong parts: 1191\n",
      "loaded yao parts: 1118\n",
      "loaded jiao parts: 1178\n"
     ]
    }
   ],
   "source": [
    "equipments = json.load(open(\"data/equipment.json\",\"r\", encoding=\"utf8\"))\n",
    "PART_NAMES = ['tou', 'wan', 'xiong', 'yao', 'jiao']\n",
    "ALL_EQUIPMENTS = {}\n",
    "for part in PART_NAMES:\n",
    "    items = []\n",
    "    for item in equipments[\"data\"]:\n",
    "        if item[\"buwei\"] == part:\n",
    "            skill_dict = {}\n",
    "            for skill in item[\"skillArray\"]:\n",
    "                skill_dict[skill[\"skillId\"]] = skill.get(\"skillNum\", 0)\n",
    "            name = \"%s (%s/%s)\" % (item[\"name_cn\"], item[\"name\"], item[\"name_en\"])\n",
    "            items.append([name, skill_dict, item[\"hole\"], item[\"type\"], item[\"initDefense\"], item[\"maxDefense\"]])\n",
    "    ALL_EQUIPMENTS[part] = items\n",
    "    print(\"loaded %s parts: %d\" % (part, len(items)))"
   ]
  },
  {
   "cell_type": "markdown",
   "metadata": {},
   "source": [
    "# Load Skill and Activation"
   ]
  },
  {
   "cell_type": "code",
   "execution_count": 3,
   "metadata": {},
   "outputs": [],
   "source": [
    "skills = json.load(open(\"data/skill_activation.json\",\"r\", encoding=\"utf8\"))\n",
    "SKILL_NAME2ID = {}\n",
    "SKILL_ID2NAME = {}\n",
    "ACTIVATION_TO_SKILL = {}\n",
    "for item in skills[\"data\"]:\n",
    "    SKILL_NAME2ID[item[\"skillPointName_cn\"]] = item[\"id\"]\n",
    "    SKILL_ID2NAME[item[\"id\"]] = item[\"skillPointName_cn\"]\n",
    "    for activation in item[\"skillFadongArray\"]:\n",
    "        if int(activation[\"num\"]) > 0:\n",
    "            ACTIVATION_TO_SKILL[activation[\"skillFadong_cn\"]] = (item[\"id\"], int(activation[\"num\"]))"
   ]
  },
  {
   "cell_type": "code",
   "execution_count": 4,
   "metadata": {},
   "outputs": [
    {
     "name": "stdout",
     "output_type": "stream",
     "text": [
      "技能名称: ['攻击', '穷地', '英雄之盾', '灭气攻击', '冰属性攻击', '逆境', '拔刀灭气', '水属性攻击', '蓄力缩短', '属性攻击', '特殊会心', '炮术', '雷属性攻击', '龙属性攻击', '属性会心', '火属性攻击', '连击', '痛击', '防御', '守护', '纳刀研磨', '钝器', '认真', '爆弹强化', '肉食', '刃鳞', '忍耐', '会心強化', '研磨术', '根性', '耐力', '特殊攻击', '锋利度', '收刀', 'ＳＰ延长', '持续行走', '大胃王', '进食', '底力', '剑术', '气力回复', '龙气', '达人', '拔刀会心', '重击', '斗魂', '体力', '饥饿感', '泡沫', '无心', '防御强化', '里会心', '骑乘', '体术', '茸食', '匠', '无伤', '逆上', '回避距离', '防御性能', 'KO', '跳跃', '回避性能', '机会', '狂击耐性', '装填数', '蜂蜜', '毒', '麻痹瓶追加', '水耐性', '回复量', '雷耐性', '火耐性', '对防御DOWN', '风压', '接击瓶追加', '炎热适应', '节食', '雪人', '榴弹追加', '护石强化', '耐暑', '灭气瓶追加', '裂伤', '剥取', '搬运', '耐震', '冰耐性', '细菌学', '贯通弹追加', '偷盗无效', '通常弹强化', '散弹追加', '强击瓶追加', '装填速度', '弹药节约', '反复无常', '扩散弹追加', '射法', '调合数', '回复速度', '广域', '属强瓶追加', '毒瓶追加', '龙耐性', '速射', '护石王', '寒冷适应', '效果持续', '变则射击', '睡眠瓶追加', '爆破瓶追加', '运气', '野草知识', '听觉保护', '反动', '属性耐性', '耐寒', '贯通弹强化', '重击弹强化', '麻痹', '睡眠', '晕眩', '通常弹追加', '散弹强化', '精密射击', '捕获', '采集', '刚击', '贝尔纳', '天眼', '银岭', '真・岩穿', '真・铠裂', '警惕', '观察眼', '猎人', '怒', '增幅', '对炎龙', '真・红兜', '高速设置', '顽强', '真・金雷公', '职工', '红兜', '荒钩爪', '刚腕', '采配', '回避术', '大雪主', '真・矛碎', '真・白疾风', '研磨师', '秘术', '胴系统加倍', '北辰纳豆流', '射手', '金雷公', '真・黑炎王', '真・银岭', '号令', '洁癖', '波克', '紫毒姫', '胧隐', '真・紫毒姫', '状态耐性', '盾持', '护石收集', '对钢龙', '龙识船', '矛砕', '青电主', '鏖魔', '食欲', '祈愿', '笛', '对霞龙', '宝缠', '真・青电主', '刀匠', '真・烬灭刃', '居合', '真・大雪主', '真・荒钩爪', '真・天眼', '真・鏖魔', '斩术', '千里眼', '调合成功率', '飞行酒馆', '独眼', '科科特', '白疾风', '烬灭刃', '真・胧隐', '结云', '岩穿', '黑炎王', '真・宝缠', '真・独眼', '暗地工作', '强欲', '铠裂']\n"
     ]
    }
   ],
   "source": [
    "print(\"技能名称:\", list(SKILL_NAME2ID.keys()))"
   ]
  },
  {
   "cell_type": "code",
   "execution_count": 5,
   "metadata": {},
   "outputs": [
    {
     "name": "stdout",
     "output_type": "stream",
     "text": [
      "发动技能名称: ['攻击力UP【大】', '攻击力UP【中】', '攻击力UP【小】', '绝境求生', '英雄守护', '耐力夺取', '冰属性攻击强化+2', '冰属性攻击强化+1', '不屈', '拔刀术【力】', '水属性攻击强化+2', '水属性攻击强化+1', '集中', '属性攻击强化', '会心击【特殊】', '炮术王', '炮术师', '雷属性攻击强化+2', '雷属性攻击强化+1', '龙属性攻击强化+2', '龙属性攻击强化+1', '会心击【属性】', '火属性攻击强化+2', '火属性攻击强化+1', '连击的心得', '弱点特效', '防御力UP【大】', '防御力UP【中】', '防御力UP【小】', '精灵加护', '挑战者的纳刀', '钝器使用', '力量解放+2', '力量解放+1', '爆弹人', '最爱吃肉', '刃鳞研磨', '虎视眈眈', '超会心', '刚刃研磨', '根性', '飞人', '状态异常攻击+2', '状态异常攻击+1', '利刃', '纳刀术', 'ＳＰ时间延长', '持续奔跑', '饥不择食', '饱食', '速食者+2', '速食者+1', '火事场力+2', '火事场力+1', '心眼', '耐力急速回复', '龙气活性', '洞悉+3', '洞悉+2', '洞悉+1', '拔刀术【技】', '破坏王', '挑战者+2', '挑战者+1', '体力+50', '体力+20', '饥饿感无效', '饥饿感减半', '泡沫之舞', '明镜止水', '防御强化', '痛恨会心', '骑乘名人', '体术+2', '体术+1', '最爱蘑菇', '锋利度等级+2', '锋利度等级+1', '全蓄力', '仇恨', '回避距离UP', '防御性能+2', '防御性能+1', 'KO术', '飞燕', '回避性能+2', '回避性能+1', '王牌', '无我的境地', '装填数UP', '蜂蜜猎人', '毒耐性', '麻痹瓶追加', '水耐性【大】', '水耐性【小】', '体力回复量UP', '雷耐性【大】', '雷耐性【小】', '火耐性【大】', '火耐性【小】', '铁面皮', '风压【大】无效', '风压【小】无效', '接击瓶追加', '南风的狩人', '满足感', '雪人无效', '穿甲榴弹全LV追加', '穿甲榴弹LV1追加', '护石系統倍加', '炎热无效', '灭气瓶追加', '裂伤无效', '剥取名人', '剥取铁人', '搬运达人', '耐震', '冰耐性【大】', '冰耐性【小】', '生物博士', '细菌研究家', '贯通弹全LV追加', '贯通弹LV1追加', '偷盗无效', '通常弹・连射箭UP', '散弹全LV追加', '散弹LV1追加', '强击瓶全LV追加', '强击瓶LV1追加', '装填速度+3', '装填速度+2', '装填速度+1', '弹药节约', '神之气息', '精灵之气息', '扩散弹全LV追加', '扩散弹LV1追加', '弹导强化', '最大数生产', '回复速度+2', '回复速度+1', '广域化+2', '广域化+1', '属强瓶全LV追加', '属强瓶LV1追加', '毒瓶追加', '龙耐性【大】', '龙耐性【小】', '连发数+1', '护符猎人', '护符收藏家', '北风的狩人', '道具使用强化', '特定射击强化', '睡眠瓶追加', '爆破瓶追加', '激运', '强运', '幸运', '药草超强化', '药草强化', '高级耳栓', '耳栓', '反动减轻+3', '反动减轻+2', '反动减轻+1', '属性异常无效', '寒冷无效', '贯通弹・贯通箭UP', '重击弹・重射矢UP', '麻痹无效', '睡眠无效', '晕眩无效', '晕眩概率减半', '通常弹全LV追加', '散弹・扩散箭UP', '摇晃减轻+2', '摇晃减轻+1', '捕获名人', '捕获达人', '采集+2', '采集+1', '无慈悲', '贝尔纳之心', '天眼之魂', '银岭之魂', '真・岩穿之魂', '真・铠裂之魂', '隐秘', '捕获的极致', '猎人生活', '逆鳞', '属物强化', '钢壳守护', '真・红兜之魂', '陷阱师', '铁壁', '真・金雷公之魂', '陷阱大师', '红兜之魂', '荒钩爪之魂', '痛打', '关心随从猫', '轻业师', '大雪主之魂', '真・矛碎之魂', '真・白疾风之魂', '砥石使用高速化', '技能加点+2', '纳豆剑法', '刚弹', '金雷公之魂', '真・黑炎王之魂', '真・银岭之魂', '命令随从猫', '波克之心', '紫毒姬之魂', '胧隐之魂', '真・紫毒姬之魂', '护法', '盾派师', '护符爱好者', '霞皮守护', '龙识船之心', '矛碎之魂', '青电主之魂', '鏖魔之魂', '美食', '祝福', '吹笛名人', '炎鳞守护', '宝缠之魂', '真・青电主之魂', '真打', '真・烬灭刃之魂', '居合术【力】', '真・大雪主之魂', '真・荒钩爪之魂', '真・天眼之魂', '真・鏖魔之魂', '心剑一体', '自动标记', '探知', '调和成功率+45%', '调和成功率+20%', '飞行酒馆之心', '独眼之魂', '科科特之心', '白疾风之魂', '烬灭刃之魂', '真・胧隐之魂', '结云之心', '岩穿之魂', '黑炎王之魂', '真・宝缠之魂', '真・独眼之魂', '秘密策划', '增收', '铠裂之魂']\n"
     ]
    }
   ],
   "source": [
    "print(\"发动技能名称:\", list(ACTIVATION_TO_SKILL.keys()))"
   ]
  },
  {
   "cell_type": "markdown",
   "metadata": {},
   "source": [
    "# Load Gems"
   ]
  },
  {
   "cell_type": "code",
   "execution_count": 6,
   "metadata": {},
   "outputs": [],
   "source": [
    "gems = json.load(open(\"data/gems.json\",\"r\", encoding=\"utf8\"))\n",
    "ALL_GEMS = []\n",
    "for gem in gems[\"data\"]:\n",
    "    skills = {}\n",
    "    if gem[\"effect1\"] in SKILL_NAME2ID:\n",
    "        skills[SKILL_NAME2ID[gem[\"effect1\"]]] = gem[\"effect1_num\"]\n",
    "    if gem[\"effect2\"] in SKILL_NAME2ID:\n",
    "        skills[SKILL_NAME2ID[gem[\"effect2\"]]] = gem[\"effect2_num\"]\n",
    "    ALL_GEMS.append([gem[\"name_cn\"], skills, gem[\"hole\"]])"
   ]
  },
  {
   "cell_type": "markdown",
   "metadata": {},
   "source": [
    "# Input Requirement"
   ]
  },
  {
   "cell_type": "code",
   "execution_count": 7,
   "metadata": {},
   "outputs": [],
   "source": [
    "# 需要的技能 从上面发动技能名称中粘贴\n",
    "required_activated_skills = [\n",
    "    '洞悉+2',\n",
    "    '弱点特效',\n",
    "    '贯通弹・贯通箭UP',\n",
    "    '超会心',\n",
    "    '弹导强化'\n",
    "]\n",
    "# 护石提供的技能点 从上面技能名称中粘贴\n",
    "stone_skills = {\n",
    "    \"痛击\": 6\n",
    "}\n",
    "# 护石孔数\n",
    "stone_hole = 3\n",
    "# 武器孔数\n",
    "weapon_hole = 1\n",
    "# 是否为远程: 远程为1 近战为0 \n",
    "is_gunner = 1"
   ]
  },
  {
   "cell_type": "markdown",
   "metadata": {},
   "source": [
    "# Processing"
   ]
  },
  {
   "cell_type": "code",
   "execution_count": 8,
   "metadata": {},
   "outputs": [
    {
     "name": "stdout",
     "output_type": "stream",
     "text": [
      "达人:需要15点 护石提供0点\n",
      "痛击:需要10点 护石提供6点\n",
      "贯通弹强化:需要10点 护石提供0点\n",
      "会心強化:需要10点 护石提供0点\n",
      "射法:需要10点 护石提供0点\n",
      "武器1孔 护石3孔\n"
     ]
    }
   ],
   "source": [
    "required_point_dict = defaultdict(int)\n",
    "for activated_skill in required_activated_skills:\n",
    "    required_point_dict[ACTIVATION_TO_SKILL[activated_skill][0]] += ACTIVATION_TO_SKILL[activated_skill][1]\n",
    "\n",
    "id2dim = {}\n",
    "required_skills = []\n",
    "for key in required_point_dict.keys():\n",
    "    id2dim[key] = len(required_skills)\n",
    "    required_skills.append(key)\n",
    "    \n",
    "required_points = [0] * len(required_skills)\n",
    "stone_points = [0] * len(required_skills)\n",
    "for key in required_point_dict.keys():\n",
    "    required_points[id2dim[key]] = required_point_dict[key]\n",
    "for key in stone_skills:\n",
    "    stone_points[id2dim[SKILL_NAME2ID[key]]] = stone_skills[key]\n",
    "\n",
    "for i in range(len(required_skills)):\n",
    "    print(\"%s:需要%d点 护石提供%d点\" % (SKILL_ID2NAME[required_skills[i]], required_points[i], stone_points[i]))\n",
    "print(\"武器%d孔 护石%d孔\" % (weapon_hole, stone_hole))"
   ]
  },
  {
   "cell_type": "code",
   "execution_count": 9,
   "metadata": {},
   "outputs": [],
   "source": [
    "def isDominate(la, lb):\n",
    "    for a, b in zip(la, lb):\n",
    "        if a < b:\n",
    "            return False\n",
    "    return True\n",
    "\n",
    "def search_candidate(input_items, required_skills, require_type):\n",
    "    selected_items = []\n",
    "    for item in input_items:\n",
    "        if require_type != -1 and item[-3] !=  require_type:\n",
    "            continue\n",
    "        current_item = []\n",
    "        total = 0\n",
    "        for s in required_skills:\n",
    "            skill_num = item[1].get(s, 0)\n",
    "            total += skill_num\n",
    "            current_item.append(skill_num)\n",
    "        current_item.append(item[2])\n",
    "\n",
    "        if total == 0:\n",
    "            continue\n",
    "\n",
    "        is_dominated = False\n",
    "        for sitem in selected_items:\n",
    "            if isDominate(sitem[1], current_item):\n",
    "                is_dominated = True\n",
    "                break\n",
    "\n",
    "        if is_dominated:\n",
    "            continue\n",
    "\n",
    "        selected_items = [sitem for sitem in selected_items if not isDominate(current_item, sitem[1])]\n",
    "        selected_items.append([item[0], current_item, item[-2], item[-1]])\n",
    "    return selected_items"
   ]
  },
  {
   "cell_type": "code",
   "execution_count": 10,
   "metadata": {},
   "outputs": [],
   "source": [
    "def prefilter_gem(required_skills):\n",
    "    prefiltered_gems = []\n",
    "    for gem in ALL_GEMS:\n",
    "            is_useful = False\n",
    "            for skill in required_skills:\n",
    "                if gem[1].get(skill, 0) > 0:\n",
    "                    is_useful = True\n",
    "                    break\n",
    "            if is_useful:\n",
    "                prefiltered_gems.append(gem)\n",
    "    return prefiltered_gems\n",
    "\n",
    "def prepare_gem_search(equipments, required_skills, required_points, stone_points, stone_hole, weapon_hole, prefilter_gems):\n",
    "    hole_counts = [0] * 4 # holes for 1, 2, 3\n",
    "    hole_counts[stone_hole] += 1\n",
    "    hole_counts[weapon_hole] += 1\n",
    "    \n",
    "    left_over_points = required_points[:]\n",
    "    num_skills = len(left_over_points)\n",
    "    \n",
    "    # count stone skill\n",
    "    for i in range(num_skills):\n",
    "        left_over_points[i] -= stone_points[i]\n",
    "        \n",
    "    for equip in equipments:\n",
    "        hole_counts[equip[1][-1]] += 1\n",
    "        for i in range(num_skills):\n",
    "            left_over_points[i] -= equip[1][i]\n",
    "    \n",
    "    # new requirement\n",
    "    new_required_skills = []\n",
    "    new_required_points = []\n",
    "    for i in range(num_skills):\n",
    "        if left_over_points[i] > 0:\n",
    "            new_required_skills.append(required_skills[i])\n",
    "            new_required_points.append(left_over_points[i])\n",
    "    \n",
    "    # filter useful gems\n",
    "    useful_gems = []\n",
    "    max_single_gain = [0.0] * len(new_required_skills)\n",
    "    for gem in prefilter_gems:\n",
    "        is_useful = False\n",
    "        gen_skill = [0] * len(new_required_skills)\n",
    "        for i, skill in enumerate(new_required_skills):\n",
    "            p = gem[1].get(skill, 0)\n",
    "            if p > 0:\n",
    "                is_useful = True\n",
    "                gen_skill[i] = p\n",
    "                max_single_gain[i] = max(max_single_gain[i], 1.0 * p / gem[2])\n",
    "        if is_useful:\n",
    "            useful_gems.append([gem[0], gen_skill, gem[2]])\n",
    "    \n",
    "    # greedy prune\n",
    "    total_holes = hole_counts[1] + 2* hole_counts[2] + 3 * hole_counts[3]\n",
    "    for require, gain in zip(new_required_points, max_single_gain):\n",
    "        require_num = int(math.ceil(require / gain))\n",
    "        total_holes -= require_num\n",
    "        if total_holes < 0:\n",
    "            return False, None, None, None, None\n",
    "    \n",
    "    return True, [max(v, 0) for v in left_over_points], hole_counts, new_required_points, useful_gems"
   ]
  },
  {
   "cell_type": "code",
   "execution_count": 11,
   "metadata": {},
   "outputs": [],
   "source": [
    "def search_gem(required_points, hole_counts, useful_gems, result, cache):\n",
    "    is_done = True\n",
    "    for v in required_points:\n",
    "        if v > 0:\n",
    "            is_done = False\n",
    "            break\n",
    "    if is_done:\n",
    "        return True\n",
    "    \n",
    "    state = tuple(required_points + hole_counts)\n",
    "    if state in cache:\n",
    "        return cache[state]\n",
    "    \n",
    "    for gem in useful_gems:\n",
    "        is_useful = False\n",
    "        for i, v in enumerate(gem[1]):\n",
    "            if required_points[i] > 0 and v > 0:\n",
    "                is_useful = True\n",
    "                break\n",
    "        if is_useful:\n",
    "            for h in range(1, 4):\n",
    "                if gem[2] <= h and hole_counts[h] > 0:\n",
    "                    hole_counts[h] -= 1\n",
    "                    hole_counts[h - gem[2]] += 1\n",
    "                    \n",
    "                    for i, v in enumerate(gem[1]):\n",
    "                        required_points[i] -= v\n",
    "\n",
    "                    result.append(gem[0])\n",
    "                    cache[state] = search_gem(required_points, hole_counts, useful_gems, result, cache)\n",
    "                    if cache[state]:\n",
    "                        return True\n",
    "                    result.pop()\n",
    "                    for i, v in enumerate(gem[1]):\n",
    "                        required_points[i] += v\n",
    "                    \n",
    "                    hole_counts[h] += 1\n",
    "                    hole_counts[h - gem[2]] -= 1\n",
    "    return False"
   ]
  },
  {
   "cell_type": "code",
   "execution_count": 12,
   "metadata": {},
   "outputs": [
    {
     "name": "stdout",
     "output_type": "stream",
     "text": [
      "=============================总防御力: 312 -> 439=============================\n",
      "头: 隼刃羽饰 (隼刃の羽飾り/Hayabusa Feather) 防御 20 -> 51\n",
      "腕: 海龙护手X (ラギアXガード/Lagiacrus Guards X) 防御 72 -> 96\n",
      "胸: 曙丸战流【胴甲】 (曙丸戦流【胴当て】/Battlefield Genesis Torso) 防御 69 -> 93\n",
      "腰: 银火龙裙甲XR (S・ソルXRコート/Silver Solcoat XR) 防御 75 -> 99\n",
      "脚: 霸龙轻靴XR (アカムトXRチキル/Akantor Boots XR) 防御 76 -> 100\n",
      "珠子: 射法珠【2】, 射法珠【2】, 射法珠【2】, 射法珠【1】, 会心珠【1】, 会心珠【1】\n",
      "\n",
      "=============================总防御力: 309 -> 436=============================\n",
      "头: 隼刃羽饰 (隼刃の羽飾り/Hayabusa Feather) 防御 20 -> 51\n",
      "腕: 幸福护手X (チアフルXガード/Cheerful Guards X) 防御 69 -> 93\n",
      "胸: 曙丸战流【胴甲】 (曙丸戦流【胴当て】/Battlefield Genesis Torso) 防御 69 -> 93\n",
      "腰: 银火龙裙甲XR (S・ソルXRコート/Silver Solcoat XR) 防御 75 -> 99\n",
      "脚: 霸龙轻靴XR (アカムトXRチキル/Akantor Boots XR) 防御 76 -> 100\n",
      "珠子: 贯通珠【３】, 射法珠【2】, 射法珠【2】, 会心珠【1】, 会心珠【1】\n",
      "\n"
     ]
    }
   ],
   "source": [
    "tou_equips = sorted(search_candidate(ALL_EQUIPMENTS[\"tou\"], required_skills, -1), key=lambda x: -x[-1])\n",
    "wan_equips = sorted(search_candidate(ALL_EQUIPMENTS[\"wan\"], required_skills, is_gunner), key=lambda x: -x[-1])\n",
    "xiong_equips = sorted(search_candidate(ALL_EQUIPMENTS[\"xiong\"], required_skills, is_gunner), key=lambda x: -x[-1])\n",
    "yao_equips = sorted(search_candidate(ALL_EQUIPMENTS[\"yao\"], required_skills, is_gunner), key=lambda x: -x[-1])\n",
    "jiao_equips = sorted(search_candidate(ALL_EQUIPMENTS[\"jiao\"], required_skills, is_gunner), key=lambda x: -x[-1])\n",
    "\n",
    "possible_results = []\n",
    "prefilered_gems = prefilter_gem(required_skills)\n",
    "for tou in tou_equips:\n",
    "    for wan in wan_equips:\n",
    "        for xiong in xiong_equips:\n",
    "            for yao in yao_equips:\n",
    "                for jiao in jiao_equips:\n",
    "                    equipments = [tou, wan, xiong, yao, jiao]\n",
    "                    is_possible, left_over_points, hole_counts, new_required_points, useful_gems = prepare_gem_search(equipments, required_skills, required_points, stone_points, stone_hole, weapon_hole,prefilered_gems)\n",
    "                    if is_possible:\n",
    "                        result_gems = []\n",
    "                        cahce = {}\n",
    "                        useful_gems = sorted(useful_gems, key=lambda x: -x[2])\n",
    "                        if search_gem(new_required_points, hole_counts, useful_gems, result_gems, cahce):\n",
    "                            print(\"=============================总防御力: %d -> %d=============================\" % (\n",
    "                                tou[-2]+wan[-2]+xiong[-2]+yao[-2]+jiao[-2],\n",
    "                                tou[-1]+wan[-1]+xiong[-1]+yao[-1]+jiao[-1]\n",
    "                            ))\n",
    "                            print(\"头: %s 防御 %d -> %d\" % (tou[0], tou[-2], tou[-1]))\n",
    "                            print(\"腕: %s 防御 %d -> %d\" % (wan[0], wan[-2], wan[-1]))\n",
    "                            print(\"胸: %s 防御 %d -> %d\" % (xiong[0], xiong[-2], xiong[-1]))\n",
    "                            print(\"腰: %s 防御 %d -> %d\" % (yao[0], yao[-2], yao[-1]))\n",
    "                            print(\"脚: %s 防御 %d -> %d\" % (jiao[0], jiao[-2], jiao[-1]))\n",
    "                            print(\"珠子: %s\" % \", \".join(result_gems))\n",
    "                            print(\"\")"
   ]
  },
  {
   "cell_type": "code",
   "execution_count": null,
   "metadata": {},
   "outputs": [],
   "source": []
  }
 ],
 "metadata": {
  "kernelspec": {
   "display_name": "Python 3",
   "language": "python",
   "name": "python3"
  },
  "language_info": {
   "codemirror_mode": {
    "name": "ipython",
    "version": 3
   },
   "file_extension": ".py",
   "mimetype": "text/x-python",
   "name": "python",
   "nbconvert_exporter": "python",
   "pygments_lexer": "ipython3",
   "version": "3.7.5"
  }
 },
 "nbformat": 4,
 "nbformat_minor": 2
}
